{
  "nbformat": 4,
  "nbformat_minor": 0,
  "metadata": {
    "colab": {
      "name": "Task2.ipynb",
      "provenance": [],
      "collapsed_sections": []
    },
    "kernelspec": {
      "name": "python3",
      "display_name": "Python 3"
    },
    "language_info": {
      "name": "python"
    },
    "accelerator": "GPU"
  },
  "cells": [
    {
      "cell_type": "markdown",
      "metadata": {
        "id": "G2nBaRTgwEHv"
      },
      "source": [
        "# Tasks\n",
        "### Prepare 4 random 4-qubit quantum states of your choice.\n",
        "### Construct and Train a variational circuit that \n",
        "- if random state 1 is provided, it returns state |0011>\n",
        "- if random state 2 is provided, it returns state |0101>\n",
        "- if random state 3 is provided, it returns state |1010>\n",
        "- if random state 4 is provided, it returns state |1100>\n",
        "\n",
        "###  What would happen if you provided a different state?\n"
      ]
    },
    {
      "cell_type": "markdown",
      "metadata": {
        "id": "g3-FYC3ZxCqo"
      },
      "source": [
        "Installing libraries"
      ]
    },
    {
      "cell_type": "code",
      "metadata": {
        "colab": {
          "base_uri": "https://localhost:8080/"
        },
        "id": "0I9Y3hshecpp",
        "outputId": "9a5e132f-6631-47ec-92e0-e1c793da7411"
      },
      "source": [
        "!pip install qiskit"
      ],
      "execution_count": 27,
      "outputs": [
        {
          "output_type": "stream",
          "name": "stdout",
          "text": [
            "Requirement already satisfied: qiskit in /usr/local/lib/python3.7/dist-packages (0.30.0)\n",
            "Requirement already satisfied: qiskit-ignis==0.6.0 in /usr/local/lib/python3.7/dist-packages (from qiskit) (0.6.0)\n",
            "Requirement already satisfied: qiskit-ibmq-provider==0.16.0 in /usr/local/lib/python3.7/dist-packages (from qiskit) (0.16.0)\n",
            "Requirement already satisfied: qiskit-aer==0.9.0 in /usr/local/lib/python3.7/dist-packages (from qiskit) (0.9.0)\n",
            "Requirement already satisfied: qiskit-terra==0.18.2 in /usr/local/lib/python3.7/dist-packages (from qiskit) (0.18.2)\n",
            "Requirement already satisfied: qiskit-aqua==0.9.5 in /usr/local/lib/python3.7/dist-packages (from qiskit) (0.9.5)\n",
            "Requirement already satisfied: pybind11>=2.6 in /usr/local/lib/python3.7/dist-packages (from qiskit-aer==0.9.0->qiskit) (2.7.1)\n",
            "Requirement already satisfied: scipy>=1.0 in /usr/local/lib/python3.7/dist-packages (from qiskit-aer==0.9.0->qiskit) (1.4.1)\n",
            "Requirement already satisfied: numpy>=1.16.3 in /usr/local/lib/python3.7/dist-packages (from qiskit-aer==0.9.0->qiskit) (1.19.5)\n",
            "Requirement already satisfied: dlx<=1.0.4 in /usr/local/lib/python3.7/dist-packages (from qiskit-aqua==0.9.5->qiskit) (1.0.4)\n",
            "Requirement already satisfied: docplex>=2.21.207 in /usr/local/lib/python3.7/dist-packages (from qiskit-aqua==0.9.5->qiskit) (2.22.213)\n",
            "Requirement already satisfied: sympy>=1.3 in /usr/local/lib/python3.7/dist-packages (from qiskit-aqua==0.9.5->qiskit) (1.7.1)\n",
            "Requirement already satisfied: psutil>=5 in /usr/local/lib/python3.7/dist-packages (from qiskit-aqua==0.9.5->qiskit) (5.4.8)\n",
            "Requirement already satisfied: pandas in /usr/local/lib/python3.7/dist-packages (from qiskit-aqua==0.9.5->qiskit) (1.1.5)\n",
            "Requirement already satisfied: fastdtw<=0.3.4 in /usr/local/lib/python3.7/dist-packages (from qiskit-aqua==0.9.5->qiskit) (0.3.4)\n",
            "Requirement already satisfied: retworkx>=0.8.0 in /usr/local/lib/python3.7/dist-packages (from qiskit-aqua==0.9.5->qiskit) (0.10.2)\n",
            "Requirement already satisfied: h5py<3.3.0 in /usr/local/lib/python3.7/dist-packages (from qiskit-aqua==0.9.5->qiskit) (3.1.0)\n",
            "Requirement already satisfied: setuptools>=40.1.0 in /usr/local/lib/python3.7/dist-packages (from qiskit-aqua==0.9.5->qiskit) (57.4.0)\n",
            "Requirement already satisfied: quandl in /usr/local/lib/python3.7/dist-packages (from qiskit-aqua==0.9.5->qiskit) (3.6.1)\n",
            "Requirement already satisfied: yfinance>=0.1.62 in /usr/local/lib/python3.7/dist-packages (from qiskit-aqua==0.9.5->qiskit) (0.1.63)\n",
            "Requirement already satisfied: scikit-learn>=0.20.0 in /usr/local/lib/python3.7/dist-packages (from qiskit-aqua==0.9.5->qiskit) (0.22.2.post1)\n",
            "Requirement already satisfied: requests>=2.19 in /usr/local/lib/python3.7/dist-packages (from qiskit-ibmq-provider==0.16.0->qiskit) (2.23.0)\n",
            "Requirement already satisfied: urllib3>=1.21.1 in /usr/local/lib/python3.7/dist-packages (from qiskit-ibmq-provider==0.16.0->qiskit) (1.24.3)\n",
            "Requirement already satisfied: requests-ntlm>=1.1.0 in /usr/local/lib/python3.7/dist-packages (from qiskit-ibmq-provider==0.16.0->qiskit) (1.1.0)\n",
            "Requirement already satisfied: python-dateutil>=2.8.0 in /usr/local/lib/python3.7/dist-packages (from qiskit-ibmq-provider==0.16.0->qiskit) (2.8.2)\n",
            "Requirement already satisfied: websocket-client>=1.0.1 in /usr/local/lib/python3.7/dist-packages (from qiskit-ibmq-provider==0.16.0->qiskit) (1.2.1)\n",
            "Requirement already satisfied: dill>=0.3 in /usr/local/lib/python3.7/dist-packages (from qiskit-terra==0.18.2->qiskit) (0.3.4)\n",
            "Requirement already satisfied: jsonschema>=2.6 in /usr/local/lib/python3.7/dist-packages (from qiskit-terra==0.18.2->qiskit) (2.6.0)\n",
            "Requirement already satisfied: symengine>0.7 in /usr/local/lib/python3.7/dist-packages (from qiskit-terra==0.18.2->qiskit) (0.8.1)\n",
            "Requirement already satisfied: fastjsonschema>=2.10 in /usr/local/lib/python3.7/dist-packages (from qiskit-terra==0.18.2->qiskit) (2.15.1)\n",
            "Requirement already satisfied: python-constraint>=1.4 in /usr/local/lib/python3.7/dist-packages (from qiskit-terra==0.18.2->qiskit) (1.4.0)\n",
            "Requirement already satisfied: ply>=3.10 in /usr/local/lib/python3.7/dist-packages (from qiskit-terra==0.18.2->qiskit) (3.11)\n",
            "Requirement already satisfied: tweedledum<2.0,>=1.1 in /usr/local/lib/python3.7/dist-packages (from qiskit-terra==0.18.2->qiskit) (1.1.1)\n",
            "Requirement already satisfied: six in /usr/local/lib/python3.7/dist-packages (from docplex>=2.21.207->qiskit-aqua==0.9.5->qiskit) (1.15.0)\n",
            "Requirement already satisfied: cached-property in /usr/local/lib/python3.7/dist-packages (from h5py<3.3.0->qiskit-aqua==0.9.5->qiskit) (1.5.2)\n",
            "Requirement already satisfied: chardet<4,>=3.0.2 in /usr/local/lib/python3.7/dist-packages (from requests>=2.19->qiskit-ibmq-provider==0.16.0->qiskit) (3.0.4)\n",
            "Requirement already satisfied: idna<3,>=2.5 in /usr/local/lib/python3.7/dist-packages (from requests>=2.19->qiskit-ibmq-provider==0.16.0->qiskit) (2.10)\n",
            "Requirement already satisfied: certifi>=2017.4.17 in /usr/local/lib/python3.7/dist-packages (from requests>=2.19->qiskit-ibmq-provider==0.16.0->qiskit) (2021.5.30)\n",
            "Requirement already satisfied: cryptography>=1.3 in /usr/local/lib/python3.7/dist-packages (from requests-ntlm>=1.1.0->qiskit-ibmq-provider==0.16.0->qiskit) (3.4.8)\n",
            "Requirement already satisfied: ntlm-auth>=1.0.2 in /usr/local/lib/python3.7/dist-packages (from requests-ntlm>=1.1.0->qiskit-ibmq-provider==0.16.0->qiskit) (1.5.0)\n",
            "Requirement already satisfied: cffi>=1.12 in /usr/local/lib/python3.7/dist-packages (from cryptography>=1.3->requests-ntlm>=1.1.0->qiskit-ibmq-provider==0.16.0->qiskit) (1.14.6)\n",
            "Requirement already satisfied: pycparser in /usr/local/lib/python3.7/dist-packages (from cffi>=1.12->cryptography>=1.3->requests-ntlm>=1.1.0->qiskit-ibmq-provider==0.16.0->qiskit) (2.20)\n",
            "Requirement already satisfied: joblib>=0.11 in /usr/local/lib/python3.7/dist-packages (from scikit-learn>=0.20.0->qiskit-aqua==0.9.5->qiskit) (1.0.1)\n",
            "Requirement already satisfied: mpmath>=0.19 in /usr/local/lib/python3.7/dist-packages (from sympy>=1.3->qiskit-aqua==0.9.5->qiskit) (1.2.1)\n",
            "Requirement already satisfied: lxml>=4.5.1 in /usr/local/lib/python3.7/dist-packages (from yfinance>=0.1.62->qiskit-aqua==0.9.5->qiskit) (4.6.3)\n",
            "Requirement already satisfied: multitasking>=0.0.7 in /usr/local/lib/python3.7/dist-packages (from yfinance>=0.1.62->qiskit-aqua==0.9.5->qiskit) (0.0.9)\n",
            "Requirement already satisfied: pytz>=2017.2 in /usr/local/lib/python3.7/dist-packages (from pandas->qiskit-aqua==0.9.5->qiskit) (2018.9)\n",
            "Requirement already satisfied: inflection>=0.3.1 in /usr/local/lib/python3.7/dist-packages (from quandl->qiskit-aqua==0.9.5->qiskit) (0.5.1)\n",
            "Requirement already satisfied: more-itertools in /usr/local/lib/python3.7/dist-packages (from quandl->qiskit-aqua==0.9.5->qiskit) (8.9.0)\n"
          ]
        }
      ]
    },
    {
      "cell_type": "code",
      "metadata": {
        "id": "oAyZpUoufjC_"
      },
      "source": [
        "from qiskit import *\n",
        "import numpy as np\n"
      ],
      "execution_count": 28,
      "outputs": []
    },
    {
      "cell_type": "code",
      "metadata": {
        "id": "I5eZID97fmiK"
      },
      "source": [
        "Random_states=[\"1111\",\"0000\",\"0010\",\"1110\"]\n",
        "Output_states=[\"0011\",\"0101\",\"1010\",\"1100\"]"
      ],
      "execution_count": 29,
      "outputs": []
    },
    {
      "cell_type": "code",
      "metadata": {
        "id": "GfyTlM2xUYs9"
      },
      "source": [
        "def paramaterised_circuit(params):\n",
        "    \n",
        "    # Quantum circuit on with 4 qubits\n",
        "    qc = QuantumCircuit(4, 4)\n",
        "    \"\"\"\n",
        "    Input: params:List, len(params)==16 last index=15\n",
        "    Output:Parameterised Quantum Circuit\n",
        "    \"\"\"\n",
        "    for i in range(2):\n",
        "        # Parameterized rotations\n",
        "        for j in range(4):\n",
        "            qc.rx(params[2*4*i + 2*j], j)\n",
        "            qc.rz(params[2*4*i + 2*j+1], j)\n",
        "        \n",
        "        # Entanglement\n",
        "        for j in range(3):\n",
        "            for k in range(j+1,4):\n",
        "                qc.cx(j, k)\n",
        "    \n",
        "    #Final rotations\n",
        "    for i in range(4):\n",
        "        qc.rx(params[16+(2*i)], i)\n",
        "        qc.rz(params[16+(2*i+1)], i)\n",
        "\n",
        "    qc.ccx(0,1,2)\n",
        "    qc.ccx(1,2,3)\n",
        "    \n",
        "\n",
        "    \n",
        "    return qc"
      ],
      "execution_count": 30,
      "outputs": []
    },
    {
      "cell_type": "code",
      "metadata": {
        "id": "PMyvrl_Din3j"
      },
      "source": [
        "\n",
        "def constructPQC(state,init_params:list):\n",
        "  qc=QuantumCircuit(4,4)\n",
        "  #Intial state preparation\n",
        "\n",
        "  for i, qubit in enumerate(reversed(state)):\n",
        "        if qubit == '1':\n",
        "            qc.x(i)\n",
        "\n",
        "  pqc=parametrised_circuit(init_params)\n",
        "\n",
        "  qc.compose(pqc,inplace=True)\n",
        "\n",
        "  qc.measure([0,1,2,3],[0,1,2,3])\n",
        "\n",
        "  sim=Aer.get_backend(\"qasm_simulator\")\n",
        "\n",
        "  qo=assemble(qc)\n",
        "\n",
        "  result=execute(qc,backend=sim,shots=5000).result().get_counts()\n",
        "\n",
        "  return result\n"
      ],
      "execution_count": 31,
      "outputs": []
    },
    {
      "cell_type": "markdown",
      "metadata": {
        "id": "hYlKVBaexQuL"
      },
      "source": [
        "#Intial Parameter Constructon"
      ]
    },
    {
      "cell_type": "code",
      "metadata": {
        "id": "mR0kBs7Df_lp"
      },
      "source": [
        "init_params = np.random.default_rng().uniform(-np.pi,np.pi,24).tolist()\n"
      ],
      "execution_count": 32,
      "outputs": []
    },
    {
      "cell_type": "code",
      "metadata": {
        "id": "wHSLrQGbc8kE"
      },
      "source": [
        "def cost_function(init_params):\n",
        "  x=np.random.randint(0,4)\n",
        "  circuit=constructPQC(Random_states[x],init_params)\n",
        "  cost=1000\n",
        "  if Output_states[x] in circuit.keys():\n",
        "    out_counts=circuit[Output_states[x]]\n",
        "    cost=(5000-out_counts)**2/(5000*5000)\n",
        "\n",
        "  return cost\n",
        "\n",
        "\n"
      ],
      "execution_count": 35,
      "outputs": []
    },
    {
      "cell_type": "markdown",
      "metadata": {
        "id": "Fsvih0k4WBOO"
      },
      "source": [
        "#Optimization"
      ]
    },
    {
      "cell_type": "code",
      "metadata": {
        "colab": {
          "base_uri": "https://localhost:8080/"
        },
        "id": "4jd1k1RVrwhc",
        "outputId": "a0beeb1d-4798-43f4-a898-e2737e7b826b"
      },
      "source": [
        "print(cost_function(init_params))"
      ],
      "execution_count": 36,
      "outputs": [
        {
          "output_type": "stream",
          "name": "stdout",
          "text": [
            "0.91278916\n"
          ]
        }
      ]
    },
    {
      "cell_type": "code",
      "metadata": {
        "colab": {
          "base_uri": "https://localhost:8080/"
        },
        "id": "Yo6otNOlWA7G",
        "outputId": "52d3321d-6b55-487b-ad0d-fb705926155f"
      },
      "source": [
        "from qiskit.algorithms.optimizers import ADAM\n",
        "\n",
        "opt = ADAM(maxiter=512)\n",
        "\n",
        "param_bounds = np.array([(-np.pi, np.pi)]*24)\n",
        "\n",
        "best_params, min_cost,trere = opt.optimize(24,objective_function=cost_function,\n",
        "                                             initial_point=init_params,\n",
        "                                             variable_bounds=param_bounds)\n",
        "print(f\"Optimized params:\\n{best_params}\")\n",
        "print(\"Optimized cost:\", min_cost)\n"
      ],
      "execution_count": 37,
      "outputs": [
        {
          "output_type": "stream",
          "name": "stdout",
          "text": [
            "Optimized params:\n",
            "[-1.46706975 -1.60822277  2.56149221 -2.22292487 -3.02424273 -0.3916449\n",
            " -1.98029369 -0.94110345 -2.50160142 -1.33188263 -2.24126392  1.85659492\n",
            " -2.78695165 -2.64802459 -1.53849804 -0.06577713 -2.23202016 -3.00570762\n",
            " -3.15041681  2.01115158  2.31402524 -2.3963858  -1.13343021 -2.49159615]\n",
            "Optimized cost: 0.81577024\n"
          ]
        }
      ]
    },
    {
      "cell_type": "code",
      "metadata": {
        "colab": {
          "base_uri": "https://localhost:8080/"
        },
        "id": "Fmv3a85jyFDS",
        "outputId": "1c3a8c5d-7d27-4007-c5de-6a3fb2c59f4c"
      },
      "source": [
        "print(cost_function(best_params))"
      ],
      "execution_count": 38,
      "outputs": [
        {
          "output_type": "stream",
          "name": "stdout",
          "text": [
            "0.7056\n"
          ]
        }
      ]
    },
    {
      "cell_type": "markdown",
      "metadata": {
        "id": "Dcaq7gBUxZrw"
      },
      "source": [
        "## What would happen if we provide a different state:-"
      ]
    },
    {
      "cell_type": "code",
      "metadata": {
        "id": "fh1PqCnkoGI5"
      },
      "source": [
        "state=\"1001\"\n",
        "outs=constructPQC(state,best_params)\n",
        "\n"
      ],
      "execution_count": 39,
      "outputs": []
    },
    {
      "cell_type": "code",
      "metadata": {
        "colab": {
          "base_uri": "https://localhost:8080/",
          "height": 348
        },
        "id": "Sy0kNlirzXmo",
        "outputId": "32c16e45-0d4a-4f52-e3c3-e544383450f6"
      },
      "source": [
        "from qiskit.visualization import plot_histogram\n",
        "display(plot_histogram(outs))"
      ],
      "execution_count": 40,
      "outputs": [
        {
          "output_type": "display_data",
          "data": {
            "image/png": "[encoded data removed]",
            "text/plain": [
              "<Figure size 504x360 with 1 Axes>"
            ]
          },
          "metadata": {}
        }
      ]
    },
    {
      "cell_type": "code",
      "metadata": {
        "id": "9ym8BMKMzwAz"
      },
      "source": [
        ""
      ],
      "execution_count": null,
      "outputs": []
    }
  ]
}
